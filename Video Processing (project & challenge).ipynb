{
 "cells": [
  {
   "cell_type": "markdown",
   "metadata": {},
   "source": [
    "### Video Processing"
   ]
  },
  {
   "cell_type": "code",
   "execution_count": 1,
   "metadata": {
    "collapsed": true
   },
   "outputs": [],
   "source": [
    "import numpy as np\n",
    "import cv2\n",
    "import matplotlib.pyplot as plt\n",
    "import image_processing as ip\n",
    "import Lane as Lane"
   ]
  },
  {
   "cell_type": "code",
   "execution_count": 2,
   "metadata": {
    "collapsed": true
   },
   "outputs": [],
   "source": [
    "# Import everything needed to edit/save/watch video clips\n",
    "from moviepy.editor import VideoFileClip\n",
    "from IPython.display import HTML"
   ]
  },
  {
   "cell_type": "code",
   "execution_count": 5,
   "metadata": {
    "collapsed": true
   },
   "outputs": [],
   "source": [
    "# Create Class Lane\n",
    "lanes = Lane.Lanes()\n",
    "lanes.count = 0\n",
    "lanes.dif_sum_L = 0\n",
    "lanes.dif_sum_R = 0\n",
    "lanes.radius_of_curvature = 100000\n",
    "\n",
    "\n",
    "def process_image(img):\n",
    "\n",
    "    img_original = np.copy(img)\n",
    "\n",
    "    # Warp area\n",
    "    y_adj = 0\n",
    "\n",
    "    y_adj = ((1/lanes.radius_of_curvature)**(1/2))*5000\n",
    "    \n",
    "        \n",
    "    \n",
    "    src = np.float32([[ 0, 680],\n",
    "                     [ 560, 450],\n",
    "                     [ 720, 450],\n",
    "                     [1280, 680]])\n",
    "\n",
    "    dst = np.float32([[ 250, 720],\n",
    "                     [ 250, -1000 -y_adj],\n",
    "                     [1030, -1000 -y_adj],\n",
    "                     [1030, 720]])\n",
    "\n",
    "    # warped img\n",
    "    warped_img, Minv = ip.warped_image(img_original, src, dst)    \n",
    "    \n",
    "    \n",
    "    #---------------------------------#    \n",
    "    #---------------------------------#\n",
    "    # Image Processing\n",
    "    #---------------------------------#\n",
    "    #---------------------------------#\n",
    "\n",
    "\n",
    "    #---------------------------------#\n",
    "    # Sobel\n",
    "    #---------------------------------#\n",
    "\n",
    "    gray = cv2.cvtColor(warped_img, cv2.COLOR_RGB2GRAY)\n",
    "    gray = cv2.blur(gray,(3,3))\n",
    "    \n",
    "    kernel = 9\n",
    "    sobel_thresh = (20,255)\n",
    "\n",
    "    output1 = ip.sobel_x(gray, kernel, sobel_thresh)\n",
    "\n",
    "    morph_kernel = np.ones((5,5),np.uint8)\n",
    "    output1 = cv2.morphologyEx(output1, cv2.MORPH_OPEN, morph_kernel)\n",
    "\n",
    "    result1 = np.dstack((output1, output1, output1))\n",
    "\n",
    "    result1_hist = cv2.calcHist([result1],[0], None, [256], [0, 256])\n",
    "    result1_hist_max = result1_hist[255]\n",
    "    if result1_hist_max > 32000:\n",
    "        result1 = np.zeros_like(result1)\n",
    "    font = cv2.FONT_HERSHEY_PLAIN\n",
    "    cv2.putText(result1,'thresh: {}'.format(result1_hist_max),(0,20), font, 1,(255,255,255),2,cv2.LINE_AA)        \n",
    "\n",
    "               \n",
    "    #---------------------------------#\n",
    "    # HLS\n",
    "    #---------------------------------#\n",
    "        \n",
    "    h_thresh = ( 16, 28)  # yellow\n",
    "    \n",
    "    output5 = ip.hls_select(warped_img, space=0, thresh=h_thresh)\n",
    "    result5 = np.dstack((output5, output5, output5))\n",
    "\n",
    "\n",
    "    result5_hist = cv2.calcHist([result5],[0], None, [256], [0, 256])\n",
    "    result5_hist_max = result5_hist[255]\n",
    "\n",
    "    if result5_hist_max > 1000000:\n",
    "        result5 = np.zeros_like(result5)\n",
    "    font = cv2.FONT_HERSHEY_PLAIN\n",
    "    cv2.putText(result5,'h_thresh: {}'.format(result5_hist_max),(0,40), font, 1,(255,255,255),2,cv2.LINE_AA)    \n",
    "    \n",
    "\n",
    "    result5_left  = result5[:,:639]\n",
    "    result5_right = result5[:,640:]\n",
    "\n",
    "    result5_hist_left = cv2.calcHist([result5_left],[0], None, [256], [0, 256])\n",
    "    result5_hist_right = cv2.calcHist([result5_right],[0], None, [256], [0, 256])\n",
    "    result5_hist_left_max = result5_hist_left[255]\n",
    "    result5_hist_right_max = result5_hist_right[255]\n",
    "    \n",
    "    if result5_hist_left_max > 20000:\n",
    "        result5[:,:639] = 0\n",
    "    if result5_hist_right_max > 20000:\n",
    "        result5[:,640:] = 0\n",
    "    cv2.putText(result5,'h_thresh_L: {}'.format(result5_hist_left_max),(0,60), font, 1,(255,255,255),2,cv2.LINE_AA)    \n",
    "    cv2.putText(result5,'h_thresh_R: {}'.format(result5_hist_right_max),(0,80), font, 1,(255,255,255),2,cv2.LINE_AA)    \n",
    "    \n",
    "    \n",
    "    # HLS S\n",
    "    s_thresh = ( 75,200)\n",
    "\n",
    "    output6 = ip.hls_select(warped_img, space=2, thresh=s_thresh)\n",
    "    result6 = np.dstack((output6, output6, output6))\n",
    "\n",
    "    result6_hist = cv2.calcHist([result6],[0], None, [256], [0, 256])\n",
    "    result6_hist_max = result6_hist[255]\n",
    "\n",
    "    if result6_hist_max > 60000:\n",
    "        result6 = np.zeros_like(result6)\n",
    "    font = cv2.FONT_HERSHEY_PLAIN\n",
    "    cv2.putText(result6,'S_thresh: {}'.format(result6_hist_max),(10,50), font, 3,(255,255,255),2,cv2.LINE_AA)        \n",
    "    \n",
    "\n",
    "    \n",
    "    #---------------------------------#\n",
    "    # RGB\n",
    "    #---------------------------------#\n",
    "        \n",
    "    color_thresh1 = (170,255)\n",
    "    color_thresh2 = (240,255)\n",
    "    \n",
    "    output4 = ip.rgb_select(warped_img, 0, color_thresh2)\n",
    "    result4 = np.dstack((output4, output4, output4))\n",
    "\n",
    "    result4_hist2 = cv2.calcHist([result4],[0], None, [256], [0, 256])\n",
    "    result4_hist2_max = result4_hist2[255]\n",
    "    if result4_hist2_max > 15000:   #project = 15000\n",
    "        result4 = np.zeros_like(result4)\n",
    "#    else:\n",
    "#        if lanes.count != 0:\n",
    "#            if result4_hist2_max <= 15000:\n",
    "#                result1 = np.zeros_like(result1)\n",
    "#                result5 = np.zeros_like(result5)\n",
    "    font = cv2.FONT_HERSHEY_PLAIN\n",
    "    cv2.putText(result4,'thresh 2: {}'.format(result4_hist2_max),(0,100), font, 1,(255,255,255),2,cv2.LINE_AA)    \n",
    "    \n",
    "\n",
    "    if result4_hist2_max < 300:  #1000\n",
    "        output4 = ip.rgb_select(warped_img, 0, color_thresh1)\n",
    "        result4 = np.dstack((output4, output4, output4))\n",
    "\n",
    "        result4_hist1 = cv2.calcHist([result4],[0], None, [256], [0, 256])\n",
    "        result4_hist1_max = result4_hist1[255]\n",
    "        if result4_hist1_max > 25000:\n",
    "            result4 = np.zeros_like(result4)\n",
    "        else:\n",
    "            if lanes.count != 0:\n",
    "                if (3000 < result4_hist1_max) & (result4_hist1_max <= 25000):\n",
    "                    result1 = np.zeros_like(result1)\n",
    "                    result5 = np.zeros_like(result5)\n",
    "            \n",
    "        font = cv2.FONT_HERSHEY_PLAIN\n",
    "        cv2.putText(result4,'thresh 2: {}'.format(result4_hist2_max),(0,100), font, 1,(255,255,255),2,cv2.LINE_AA)    \n",
    "        cv2.putText(result4,'thresh 1: {}'.format(result4_hist1_max),(0,120), font, 1,(255,255,255),2,cv2.LINE_AA)    \n",
    "        \n",
    "    \n",
    "    #---------------------------------#\n",
    "    # Combination of Processed Images\n",
    "    #---------------------------------#\n",
    "        \n",
    "    result8 = np.array(result1/255 +result4/255 +result5/255 )\n",
    "    result8[result8 >= 1]=255\n",
    "    result8[result8 < 1]=0\n",
    "    \n",
    "    warped_comb = result8\n",
    "\n",
    "    \n",
    "    # 3channel -> 1channel \n",
    "    warped_comb_ = np.array(warped_comb[:,:,0]+warped_comb[:,:,1]+warped_comb[:,:,2])\n",
    "    warped_comb_[warped_comb_<255] = 0\n",
    "    warped_comb_[warped_comb_>=255] = 1\n",
    "    warped_comb_.astype(np.uint8)\n",
    "\n",
    "    # Black mask on warped_comb img\n",
    "    y_rec1 = 150\n",
    "    y_rec2 = 350\n",
    "    \n",
    "    \n",
    "    if lanes.radius_of_curvature < 200:\n",
    "        y_rec1 = 300\n",
    "        y_rec2 = 450\n",
    "    if lanes.radius_of_curvature < 150:\n",
    "        y_rec1 = 400\n",
    "        y_rec2 = 500\n",
    "    if lanes.radius_of_curvature < 100:\n",
    "        y_rec1 = 500\n",
    "        y_rec2 = 550\n",
    "\n",
    "    upper_left  = [0,0]\n",
    "    lower_right = [y_rec1, warped_comb.shape[1]]\n",
    "    warped_comb_ = ip.black_mask(warped_comb_, upper_left, lower_right)\n",
    "    \n",
    "    \n",
    "    out_img = np.zeros_like(warped_comb) #3channel\n",
    "    warped_comb2 = np.zeros_like(warped_comb) #3channel\n",
    "\n",
    "    \n",
    "    \n",
    "    #---------------------------------#    \n",
    "    #---------------------------------#\n",
    "    # Lane Detecting\n",
    "    #---------------------------------#\n",
    "    #---------------------------------#\n",
    "\n",
    "    \n",
    "    #---------------------------------#\n",
    "    # Lane Detecting\n",
    "    #---------------------------------#\n",
    "\n",
    "    if (lanes.detected == False) | (lanes.detected_times < 10) :\n",
    "        out_img, lanes.lane_info = ip.detect_pixels(warped_comb_,9)\n",
    "        if (len(lanes.lane_info[0]) == 0) | (len(lanes.lane_info[2]) == 0):\n",
    "            out_img, lanes.lane_info = ip.detect_pixels(warped_comb_,0)\n",
    "\n",
    "        if lanes.count != 0:\n",
    "            if (len(lanes.lane_info[0]) == 0) | (len(lanes.lane_info[2]) == 0):\n",
    "                warped_comb_[lanes.recent_lane_info[0],lanes.recent_lane_info[1]] = 255\n",
    "                warped_comb_[lanes.recent_lane_info[2],lanes.recent_lane_info[3]] = 255\n",
    "                out_img, lanes.lane_info = ip.detect_pixels(warped_comb_,5)\n",
    "\n",
    "        left_fit, right_fit, left_fitx, right_fitx = ip.detect_fit(warped_comb_, lanes.lane_info)   \n",
    "        check, lanes.dif_sum_L, lanes.dif_sum_R = lanes.check(left_fitx, right_fitx)\n",
    "\n",
    "        if lanes.count != 0:\n",
    "            if (check == True):\n",
    "                pass\n",
    "            else:\n",
    "                warped_comb_[lanes.recent_lane_info[0],lanes.recent_lane_info[1]] = 255\n",
    "                warped_comb_[lanes.recent_lane_info[2],lanes.recent_lane_info[3]] = 255\n",
    "\n",
    "                out_img, lanes.lane_info = ip.detect_pixels(warped_comb_,5)\n",
    "                left_fit, right_fit, left_fitx, right_fitx = ip.detect_fit(warped_comb_, lanes.lane_info)   \n",
    "\n",
    "        lanes.detected = True\n",
    "        lanes.detected_times += 1\n",
    "        lanes.recent_lane_info = lanes.lane_info\n",
    "        lanes.recent_fitx = [left_fitx, right_fitx]\n",
    "\n",
    "\n",
    "    #---------------------------------#\n",
    "    # Following Detected Lane\n",
    "    #---------------------------------#\n",
    "\n",
    "    else:\n",
    "        warped_comb_aug = ip.clear_pixels(warped_comb_, lanes.historical_fit[-1])\n",
    "        warped_comb_aug[0:y_rec2,:] = 0   \n",
    "        warped_comb_ = np.array(warped_comb_aug) + np.array(warped_comb_)\n",
    "        warped_comb_[warped_comb_ >= 1] = 1\n",
    "\n",
    "        res, out_img, lanes.lane_info, left_fit, right_fit, left_fitx, right_fitx = ip.detect_pixels_cont(warped_comb_, lanes.historical_fit[-1])\n",
    "        if (res == True):\n",
    "            check, lanes.dif_sum_L, lanes.dif_sum_R = lanes.check(left_fitx, right_fitx)\n",
    "            if (check == True):\n",
    "                    lanes.detected = True\n",
    "                    lanes.detected_times += 1\n",
    "                    lanes.most_recent_detected_info.append(lanes.lane_info)\n",
    "                    lanes.recent_lane_info = lanes.lane_info\n",
    "                    lanes.recent_fitx = [left_fitx, right_fitx]\n",
    "            else:\n",
    "                lanes.detected_times = 0\n",
    "                out_img, lanes.lane_info = ip.detect_pixels(warped_comb_,5)\n",
    "\n",
    "                if len(lanes.most_recent_detected_info) > 0:\n",
    "                    for i in range(len(lanes.lane_info)):\n",
    "                        lanes.lane_info[i] = np.hstack((lanes.lane_info[i],lanes.most_recent_detected_info[-1][i]))\n",
    "\n",
    "                left_fit, right_fit, left_fitx, right_fitx  = ip.detect_fit(warped_comb_, lanes.lane_info)   \n",
    "                lanes.detected = True\n",
    "                lanes.detected_times += 1\n",
    "                lanes.recent_lane_info = lanes.lane_info\n",
    "                lanes.recent_fitx = [left_fitx, right_fitx]\n",
    "\n",
    "        else:\n",
    "            lanes.detected_times = 0\n",
    "            out_img, lanes.lane_info = ip.detect_pixels(warped_comb_,5)\n",
    "\n",
    "            if len(lanes.most_recent_detected_info) > 0:\n",
    "                for i in range(len(lanes.lane_info)):\n",
    "                    lanes.lane_info[i] = np.hstack((lanes.lane_info[i],lanes.most_recent_detected_info[-1][i]))\n",
    "\n",
    "            left_fit, right_fit, left_fitx, right_fitx  = ip.detect_fit(warped_comb_, lanes.lane_info)   \n",
    "            lanes.detected = True\n",
    "            lanes.detected_times += 1\n",
    "            lanes.recent_lane_info = lanes.lane_info\n",
    "            lanes.recent_fitx = [left_fitx, right_fitx]\n",
    "\n",
    "\n",
    "    # Depict area\n",
    "    result_img = ip.depict_area(img, warped_comb_, Minv, left_fit, right_fit)        \n",
    "\n",
    "    lanes.historical_fit.append([left_fit,right_fit])\n",
    "\n",
    "    temp_c = lanes.radius_of_curvature\n",
    "\n",
    "    # Add info radius & offset\n",
    "    result_img, c, o = ip.add_info(result_img, lanes.lane_info, left_fit, right_fit, lanes.count, lanes.dif_sum_L, lanes.dif_sum_R)\n",
    "\n",
    "\n",
    "    lanes.radius_of_curvature = int((c*.2+temp_c*.8))\n",
    "    lanes.line_base_pos = o\n",
    "\n",
    "    \n",
    "        \n",
    "    #---------------------------------#    \n",
    "    #---------------------------------#\n",
    "    # Extra Trial\n",
    "    #---------------------------------#\n",
    "    #---------------------------------#\n",
    "\n",
    "        \n",
    "    # Modify session poly[0]~poly[2]\n",
    "    mod_left_fit = []\n",
    "    mod_right_fit = []\n",
    "\n",
    "    lanes.mod_historical_fit.append([left_fit, right_fit])\n",
    "\n",
    "    if len(lanes.mod_historical_fit)>100:\n",
    "        for i in range(3):\n",
    "            mod_left_fit.append(lanes.adjust_fit(np.array(lanes.historical_fit)[-100:-1,0,i]))\n",
    "            mod_right_fit.append(lanes.adjust_fit(np.array(lanes.historical_fit)[-100:-1,1,i]))\n",
    "\n",
    "        lanes.mod_historical_fit[-1] = [mod_left_fit,mod_right_fit]\n",
    "\n",
    "        mod_result_img = ip.depict_area(img, warped_comb_, Minv, mod_left_fit, mod_right_fit)        \n",
    "\n",
    "        # Add info radius & offset\n",
    "        mod_result_img, cc, oo = ip.add_info(mod_result_img, lanes.lane_info, mod_left_fit, mod_right_fit, lanes.count, lanes.dif_sum_L, lanes.dif_sum_R)\n",
    "        \n",
    "    else:\n",
    "        mod_result_img = np.zeros_like(result_img)\n",
    "\n",
    "    font = cv2.FONT_HERSHEY_PLAIN\n",
    "    cv2.putText(mod_result_img,'RANSAC',(800,50), font, 4,(255,255,255),2,cv2.LINE_AA)\n",
    "        \n",
    "    \n",
    "    #---------------------------------#    \n",
    "    #---------------------------------#\n",
    "    # Output Images\n",
    "    #---------------------------------#\n",
    "    #---------------------------------#\n",
    "\n",
    "        \n",
    "    # dipict warp area on img\n",
    "    img_rect = ip.dipict_warp_area(img,src)\n",
    "    \n",
    "\n",
    "\n",
    "    result_1 = np.hstack((result_img, warped_img, mod_result_img))\n",
    "    result_2 = np.hstack((out_img, result1, result4))\n",
    "    result_3 = np.hstack((warped_comb,result5, result6))\n",
    "    \n",
    "    \n",
    "    result = np.vstack((result_1,result_2,result_3))\n",
    "    \n",
    "    lanes.count += 1\n",
    "    \n",
    "    return result"
   ]
  },
  {
   "cell_type": "code",
   "execution_count": 6,
   "metadata": {
    "scrolled": true
   },
   "outputs": [
    {
     "name": "stdout",
     "output_type": "stream",
     "text": [
      "[MoviePy] >>>> Building video C:/Users/tyone/Udacity/CarND-Advanced-Lane-Lines/output_images/video502.mp4\n",
      "[MoviePy] Writing video C:/Users/tyone/Udacity/CarND-Advanced-Lane-Lines/output_images/video502.mp4\n"
     ]
    },
    {
     "name": "stderr",
     "output_type": "stream",
     "text": [
      "  8%|██████▎                                                                         | 95/1200 [00:36<07:18,  2.52it/s]"
     ]
    },
    {
     "name": "stdout",
     "output_type": "stream",
     "text": [
      "Lane distance error\n",
      "196.890387175\n"
     ]
    },
    {
     "name": "stderr",
     "output_type": "stream",
     "text": [
      " 18%|██████████████                                                                 | 213/1200 [01:35<08:27,  1.95it/s]"
     ]
    },
    {
     "name": "stdout",
     "output_type": "stream",
     "text": [
      "Lane distance error\n",
      "162.276169618\n"
     ]
    },
    {
     "name": "stderr",
     "output_type": "stream",
     "text": [
      " 33%|█████████████████████████▉                                                     | 394/1200 [03:08<06:50,  1.96it/s]"
     ]
    },
    {
     "name": "stdout",
     "output_type": "stream",
     "text": [
      "Lane distance error\n",
      "808.282330645\n"
     ]
    },
    {
     "name": "stderr",
     "output_type": "stream",
     "text": [
      " 56%|████████████████████████████████████████████▎                                  | 673/1200 [05:28<04:23,  2.00it/s]"
     ]
    },
    {
     "name": "stdout",
     "output_type": "stream",
     "text": [
      "Lane distance error\n",
      "855.049255838\n"
     ]
    },
    {
     "name": "stderr",
     "output_type": "stream",
     "text": [
      "\r",
      " 56%|████████████████████████████████████████████▎                                  | 674/1200 [05:28<04:32,  1.93it/s]"
     ]
    },
    {
     "name": "stdout",
     "output_type": "stream",
     "text": [
      "Lane distance error\n",
      "10507.8392199\n"
     ]
    },
    {
     "name": "stderr",
     "output_type": "stream",
     "text": [
      "\r",
      " 56%|████████████████████████████████████████████▍                                  | 675/1200 [05:29<04:23,  1.99it/s]"
     ]
    },
    {
     "name": "stdout",
     "output_type": "stream",
     "text": [
      "Lane distance error\n",
      "-99281.4288645\n"
     ]
    },
    {
     "name": "stderr",
     "output_type": "stream",
     "text": [
      "\r",
      " 56%|████████████████████████████████████████████▌                                  | 676/1200 [05:29<04:21,  2.00it/s]"
     ]
    },
    {
     "name": "stdout",
     "output_type": "stream",
     "text": [
      "Lane distance error\n",
      "-142.516743321\n"
     ]
    },
    {
     "name": "stderr",
     "output_type": "stream",
     "text": [
      " 57%|████████████████████████████████████████████▊                                  | 680/1200 [05:31<03:59,  2.17it/s]"
     ]
    },
    {
     "name": "stdout",
     "output_type": "stream",
     "text": [
      "Lane distance error\n",
      "-6295.1622906\n"
     ]
    },
    {
     "name": "stderr",
     "output_type": "stream",
     "text": [
      "\r",
      " 57%|████████████████████████████████████████████▊                                  | 681/1200 [05:32<03:57,  2.19it/s]"
     ]
    },
    {
     "name": "stdout",
     "output_type": "stream",
     "text": [
      "Lane distance error\n",
      "10227.6470935\n"
     ]
    },
    {
     "name": "stderr",
     "output_type": "stream",
     "text": [
      "\r",
      " 57%|████████████████████████████████████████████▉                                  | 682/1200 [05:32<03:59,  2.17it/s]"
     ]
    },
    {
     "name": "stdout",
     "output_type": "stream",
     "text": [
      "Lane distance error\n",
      "943.835992616\n"
     ]
    },
    {
     "name": "stderr",
     "output_type": "stream",
     "text": [
      " 58%|██████████████████████████████████████████████                                 | 700/1200 [05:41<04:07,  2.02it/s]"
     ]
    },
    {
     "name": "stdout",
     "output_type": "stream",
     "text": [
      "Lane distance error\n",
      "813.032959027\n"
     ]
    },
    {
     "name": "stderr",
     "output_type": "stream",
     "text": [
      "\r",
      " 58%|██████████████████████████████████████████████▏                                | 701/1200 [05:42<04:12,  1.97it/s]"
     ]
    },
    {
     "name": "stdout",
     "output_type": "stream",
     "text": [
      "Lane distance error\n",
      "-56.2606125859\n"
     ]
    },
    {
     "name": "stderr",
     "output_type": "stream",
     "text": [
      " 59%|██████████████████████████████████████████████▌                                | 707/1200 [05:44<03:43,  2.21it/s]"
     ]
    },
    {
     "name": "stdout",
     "output_type": "stream",
     "text": [
      "Lane distance error\n",
      "883.760840269\n"
     ]
    },
    {
     "name": "stderr",
     "output_type": "stream",
     "text": [
      " 59%|██████████████████████████████████████████████▋                                | 709/1200 [05:45<03:47,  2.15it/s]"
     ]
    },
    {
     "name": "stdout",
     "output_type": "stream",
     "text": [
      "Lane distance error\n",
      "969.560528963\n"
     ]
    },
    {
     "name": "stderr",
     "output_type": "stream",
     "text": [
      " 69%|██████████████████████████████████████████████████████▌                        | 828/1200 [06:45<03:03,  2.02it/s]"
     ]
    },
    {
     "name": "stdout",
     "output_type": "stream",
     "text": [
      "Lane distance error\n",
      "843.526886092\n"
     ]
    },
    {
     "name": "stderr",
     "output_type": "stream",
     "text": [
      " 77%|████████████████████████████████████████████████████████████▋                  | 921/1200 [07:32<02:21,  1.98it/s]"
     ]
    },
    {
     "name": "stdout",
     "output_type": "stream",
     "text": [
      "Lane distance error\n",
      "807.578034725\n"
     ]
    },
    {
     "name": "stderr",
     "output_type": "stream",
     "text": [
      " 79%|██████████████████████████████████████████████████████████████▍                | 949/1200 [07:45<02:08,  1.96it/s]"
     ]
    },
    {
     "name": "stdout",
     "output_type": "stream",
     "text": [
      "Lane distance error\n",
      "809.119999113\n"
     ]
    },
    {
     "name": "stderr",
     "output_type": "stream",
     "text": [
      "\r",
      " 79%|██████████████████████████████████████████████████████████████▌                | 950/1200 [07:46<02:10,  1.91it/s]"
     ]
    },
    {
     "name": "stdout",
     "output_type": "stream",
     "text": [
      "Lane distance error\n",
      "843.782092628\n"
     ]
    },
    {
     "name": "stderr",
     "output_type": "stream",
     "text": [
      " 80%|██████████████████████████████████████████████████████████████▊                | 954/1200 [07:48<01:57,  2.09it/s]"
     ]
    },
    {
     "name": "stdout",
     "output_type": "stream",
     "text": [
      "Lane distance error\n",
      "866.553196065\n"
     ]
    },
    {
     "name": "stderr",
     "output_type": "stream",
     "text": [
      "\r",
      " 80%|██████████████████████████████████████████████████████████████▊                | 955/1200 [07:48<01:59,  2.05it/s]"
     ]
    },
    {
     "name": "stdout",
     "output_type": "stream",
     "text": [
      "Lane distance error\n",
      "888.494561588\n"
     ]
    },
    {
     "name": "stderr",
     "output_type": "stream",
     "text": [
      "\r",
      " 80%|██████████████████████████████████████████████████████████████▉                | 956/1200 [07:49<02:03,  1.98it/s]"
     ]
    },
    {
     "name": "stdout",
     "output_type": "stream",
     "text": [
      "Lane distance error\n",
      "861.899833164\n"
     ]
    },
    {
     "name": "stderr",
     "output_type": "stream",
     "text": [
      "\r",
      " 80%|███████████████████████████████████████████████████████████████                | 957/1200 [07:49<02:05,  1.94it/s]"
     ]
    },
    {
     "name": "stdout",
     "output_type": "stream",
     "text": [
      "Lane distance error\n",
      "886.807851925\n"
     ]
    },
    {
     "name": "stderr",
     "output_type": "stream",
     "text": [
      "\r",
      " 80%|███████████████████████████████████████████████████████████████                | 958/1200 [07:50<02:03,  1.97it/s]"
     ]
    },
    {
     "name": "stdout",
     "output_type": "stream",
     "text": [
      "Lane distance error\n",
      "904.803790762\n"
     ]
    },
    {
     "name": "stderr",
     "output_type": "stream",
     "text": [
      " 81%|███████████████████████████████████████████████████████████████▉               | 971/1200 [07:56<01:53,  2.01it/s]"
     ]
    },
    {
     "name": "stdout",
     "output_type": "stream",
     "text": [
      "Lane distance error\n",
      "165.892651848\n"
     ]
    },
    {
     "name": "stderr",
     "output_type": "stream",
     "text": [
      "\r",
      " 81%|███████████████████████████████████████████████████████████████▉               | 972/1200 [07:57<01:59,  1.90it/s]"
     ]
    },
    {
     "name": "stdout",
     "output_type": "stream",
     "text": [
      "Lane distance error\n",
      "2080.85036943\n"
     ]
    },
    {
     "name": "stderr",
     "output_type": "stream",
     "text": [
      "\r",
      " 81%|████████████████████████████████████████████████████████████████               | 973/1200 [07:57<01:59,  1.90it/s]"
     ]
    },
    {
     "name": "stdout",
     "output_type": "stream",
     "text": [
      "Lane distance error\n",
      "2219.80317011\n"
     ]
    },
    {
     "name": "stderr",
     "output_type": "stream",
     "text": [
      " 81%|████████████████████████████████████████████████████████████████▏              | 975/1200 [07:58<01:51,  2.01it/s]"
     ]
    },
    {
     "name": "stdout",
     "output_type": "stream",
     "text": [
      "Lane distance error\n",
      "831.138992251\n"
     ]
    },
    {
     "name": "stderr",
     "output_type": "stream",
     "text": [
      " 81%|████████████████████████████████████████████████████████████████▎              | 977/1200 [07:59<01:49,  2.05it/s]"
     ]
    },
    {
     "name": "stdout",
     "output_type": "stream",
     "text": [
      "Lane distance error\n",
      "847.212149407\n"
     ]
    },
    {
     "name": "stderr",
     "output_type": "stream",
     "text": [
      "\r",
      " 82%|████████████████████████████████████████████████████████████████▍              | 978/1200 [08:00<01:49,  2.02it/s]"
     ]
    },
    {
     "name": "stdout",
     "output_type": "stream",
     "text": [
      "Lane distance error\n",
      "860.85986321\n"
     ]
    },
    {
     "name": "stderr",
     "output_type": "stream",
     "text": [
      " 82%|████████████████████████████████████████████████████████████████▌              | 980/1200 [08:01<01:49,  2.01it/s]"
     ]
    },
    {
     "name": "stdout",
     "output_type": "stream",
     "text": [
      "Lane distance error\n",
      "1075.83229934\n"
     ]
    },
    {
     "name": "stderr",
     "output_type": "stream",
     "text": [
      " 82%|████████████████████████████████████████████████████████████████▋              | 982/1200 [08:02<01:48,  2.01it/s]"
     ]
    },
    {
     "name": "stdout",
     "output_type": "stream",
     "text": [
      "Lane distance error\n",
      "1054.79083976\n"
     ]
    },
    {
     "name": "stderr",
     "output_type": "stream",
     "text": [
      "\r",
      " 82%|████████████████████████████████████████████████████████████████▋              | 983/1200 [08:02<01:51,  1.95it/s]"
     ]
    },
    {
     "name": "stdout",
     "output_type": "stream",
     "text": [
      "Lane distance error\n",
      "1602.27992171\n"
     ]
    },
    {
     "name": "stderr",
     "output_type": "stream",
     "text": [
      "\r",
      " 82%|████████████████████████████████████████████████████████████████▊              | 984/1200 [08:03<01:51,  1.94it/s]"
     ]
    },
    {
     "name": "stdout",
     "output_type": "stream",
     "text": [
      "Lane distance error\n",
      "1647.45919295\n"
     ]
    },
    {
     "name": "stderr",
     "output_type": "stream",
     "text": [
      "\r",
      " 82%|████████████████████████████████████████████████████████████████▊              | 985/1200 [08:03<01:49,  1.97it/s]"
     ]
    },
    {
     "name": "stdout",
     "output_type": "stream",
     "text": [
      "Lane distance error\n",
      "1396.98914644\n"
     ]
    },
    {
     "name": "stderr",
     "output_type": "stream",
     "text": [
      "\r",
      " 82%|████████████████████████████████████████████████████████████████▉              | 986/1200 [08:04<01:48,  1.98it/s]"
     ]
    },
    {
     "name": "stdout",
     "output_type": "stream",
     "text": [
      "Lane distance error\n",
      "2177.90701547\n"
     ]
    },
    {
     "name": "stderr",
     "output_type": "stream",
     "text": [
      "\r",
      " 82%|████████████████████████████████████████████████████████████████▉              | 987/1200 [08:04<01:46,  2.01it/s]"
     ]
    },
    {
     "name": "stdout",
     "output_type": "stream",
     "text": [
      "Lane distance error\n",
      "2577.16047201\n"
     ]
    },
    {
     "name": "stderr",
     "output_type": "stream",
     "text": [
      "\r",
      " 82%|█████████████████████████████████████████████████████████████████              | 988/1200 [08:05<01:45,  2.00it/s]"
     ]
    },
    {
     "name": "stdout",
     "output_type": "stream",
     "text": [
      "Lane distance error\n",
      "2010.94439912\n"
     ]
    },
    {
     "name": "stderr",
     "output_type": "stream",
     "text": [
      "\r",
      " 82%|█████████████████████████████████████████████████████████████████              | 989/1200 [08:05<01:46,  1.98it/s]"
     ]
    },
    {
     "name": "stdout",
     "output_type": "stream",
     "text": [
      "Lane distance error\n",
      "3003.18313842\n"
     ]
    },
    {
     "name": "stderr",
     "output_type": "stream",
     "text": [
      "\r",
      " 82%|█████████████████████████████████████████████████████████████████▏             | 990/1200 [08:06<01:45,  1.99it/s]"
     ]
    },
    {
     "name": "stdout",
     "output_type": "stream",
     "text": [
      "Lane distance error\n",
      "-691.771058074\n"
     ]
    },
    {
     "name": "stderr",
     "output_type": "stream",
     "text": [
      "\r",
      " 83%|█████████████████████████████████████████████████████████████████▏             | 991/1200 [08:06<01:45,  1.98it/s]"
     ]
    },
    {
     "name": "stdout",
     "output_type": "stream",
     "text": [
      "Lane distance error\n",
      "-910.428040629\n"
     ]
    },
    {
     "name": "stderr",
     "output_type": "stream",
     "text": [
      " 83%|█████████████████████████████████████████████████████████████████▋             | 997/1200 [08:09<01:40,  2.02it/s]"
     ]
    },
    {
     "name": "stdout",
     "output_type": "stream",
     "text": [
      "Lane distance error\n",
      "191.574949993\n"
     ]
    },
    {
     "name": "stderr",
     "output_type": "stream",
     "text": [
      "\r",
      " 83%|█████████████████████████████████████████████████████████████████▋             | 998/1200 [08:10<01:44,  1.94it/s]"
     ]
    },
    {
     "name": "stdout",
     "output_type": "stream",
     "text": [
      "Lane distance error\n",
      "-712.162495011\n"
     ]
    },
    {
     "name": "stderr",
     "output_type": "stream",
     "text": [
      "\r",
      " 83%|█████████████████████████████████████████████████████████████████▊             | 999/1200 [08:10<01:43,  1.93it/s]"
     ]
    },
    {
     "name": "stdout",
     "output_type": "stream",
     "text": [
      "Lane distance error\n",
      "-1052.01187228\n"
     ]
    },
    {
     "name": "stderr",
     "output_type": "stream",
     "text": [
      "\r",
      " 83%|█████████████████████████████████████████████████████████████████             | 1000/1200 [08:11<01:42,  1.95it/s]"
     ]
    },
    {
     "name": "stdout",
     "output_type": "stream",
     "text": [
      "Lane distance error\n",
      "-1012.48484391\n"
     ]
    },
    {
     "name": "stderr",
     "output_type": "stream",
     "text": [
      "\r",
      " 83%|█████████████████████████████████████████████████████████████████             | 1001/1200 [08:11<01:40,  1.98it/s]"
     ]
    },
    {
     "name": "stdout",
     "output_type": "stream",
     "text": [
      "Lane distance error\n",
      "-510.836493405\n"
     ]
    },
    {
     "name": "stderr",
     "output_type": "stream",
     "text": [
      "\r",
      " 84%|█████████████████████████████████████████████████████████████████▏            | 1002/1200 [08:12<01:38,  2.00it/s]"
     ]
    },
    {
     "name": "stdout",
     "output_type": "stream",
     "text": [
      "Lane distance error\n",
      "-614.475079714\n"
     ]
    },
    {
     "name": "stderr",
     "output_type": "stream",
     "text": [
      "\r",
      " 84%|█████████████████████████████████████████████████████████████████▏            | 1003/1200 [08:12<01:38,  2.00it/s]"
     ]
    },
    {
     "name": "stdout",
     "output_type": "stream",
     "text": [
      "Lane distance error\n",
      "-292.232885599\n"
     ]
    },
    {
     "name": "stderr",
     "output_type": "stream",
     "text": [
      "\r",
      " 84%|█████████████████████████████████████████████████████████████████▎            | 1004/1200 [08:13<01:38,  2.00it/s]"
     ]
    },
    {
     "name": "stdout",
     "output_type": "stream",
     "text": [
      "Lane distance error\n",
      "-1424.00873772\n"
     ]
    },
    {
     "name": "stderr",
     "output_type": "stream",
     "text": [
      "\r",
      " 84%|█████████████████████████████████████████████████████████████████▎            | 1005/1200 [08:13<01:37,  2.00it/s]"
     ]
    },
    {
     "name": "stdout",
     "output_type": "stream",
     "text": [
      "Lane distance error\n",
      "199.469913815\n"
     ]
    },
    {
     "name": "stderr",
     "output_type": "stream",
     "text": [
      "\r",
      " 84%|█████████████████████████████████████████████████████████████████▍            | 1006/1200 [08:14<01:37,  1.99it/s]"
     ]
    },
    {
     "name": "stdout",
     "output_type": "stream",
     "text": [
      "Lane distance error\n",
      "80.4445326097\n"
     ]
    },
    {
     "name": "stderr",
     "output_type": "stream",
     "text": [
      "\r",
      " 84%|█████████████████████████████████████████████████████████████████▍            | 1007/1200 [08:14<01:37,  1.99it/s]"
     ]
    },
    {
     "name": "stdout",
     "output_type": "stream",
     "text": [
      "Lane distance error\n",
      "180.288494941\n"
     ]
    },
    {
     "name": "stderr",
     "output_type": "stream",
     "text": [
      "\r",
      " 84%|█████████████████████████████████████████████████████████████████▌            | 1008/1200 [08:15<01:39,  1.93it/s]"
     ]
    },
    {
     "name": "stdout",
     "output_type": "stream",
     "text": [
      "Lane distance error\n",
      "97.8084657761\n"
     ]
    },
    {
     "name": "stderr",
     "output_type": "stream",
     "text": [
      "\r",
      " 84%|█████████████████████████████████████████████████████████████████▌            | 1009/1200 [08:15<01:36,  1.98it/s]"
     ]
    },
    {
     "name": "stdout",
     "output_type": "stream",
     "text": [
      "Lane distance error\n",
      "164.956555258\n"
     ]
    },
    {
     "name": "stderr",
     "output_type": "stream",
     "text": [
      "\r",
      " 84%|█████████████████████████████████████████████████████████████████▋            | 1010/1200 [08:16<01:35,  1.98it/s]"
     ]
    },
    {
     "name": "stdout",
     "output_type": "stream",
     "text": [
      "Lane distance error\n",
      "149.879364518\n"
     ]
    },
    {
     "name": "stderr",
     "output_type": "stream",
     "text": [
      "\r",
      " 84%|█████████████████████████████████████████████████████████████████▋            | 1011/1200 [08:16<01:35,  1.99it/s]"
     ]
    },
    {
     "name": "stdout",
     "output_type": "stream",
     "text": [
      "Lane distance error\n",
      "141.494779952\n"
     ]
    },
    {
     "name": "stderr",
     "output_type": "stream",
     "text": [
      "\r",
      " 84%|█████████████████████████████████████████████████████████████████▊            | 1012/1200 [08:17<01:34,  1.99it/s]"
     ]
    },
    {
     "name": "stdout",
     "output_type": "stream",
     "text": [
      "Lane distance error\n",
      "198.722398396\n"
     ]
    },
    {
     "name": "stderr",
     "output_type": "stream",
     "text": [
      "\r",
      " 84%|█████████████████████████████████████████████████████████████████▊            | 1013/1200 [08:17<01:33,  1.99it/s]"
     ]
    },
    {
     "name": "stdout",
     "output_type": "stream",
     "text": [
      "Lane distance error\n",
      "199.080699358\n"
     ]
    },
    {
     "name": "stderr",
     "output_type": "stream",
     "text": [
      "\r",
      " 84%|█████████████████████████████████████████████████████████████████▉            | 1014/1200 [08:18<01:32,  2.01it/s]"
     ]
    },
    {
     "name": "stdout",
     "output_type": "stream",
     "text": [
      "Lane distance error\n",
      "2.02854738159\n"
     ]
    },
    {
     "name": "stderr",
     "output_type": "stream",
     "text": [
      "\r",
      " 85%|█████████████████████████████████████████████████████████████████▉            | 1015/1200 [08:18<01:33,  1.99it/s]"
     ]
    },
    {
     "name": "stdout",
     "output_type": "stream",
     "text": [
      "Lane distance error\n",
      "199.99680436\n"
     ]
    },
    {
     "name": "stderr",
     "output_type": "stream",
     "text": [
      "\r",
      " 85%|██████████████████████████████████████████████████████████████████            | 1016/1200 [08:19<01:33,  1.96it/s]"
     ]
    },
    {
     "name": "stdout",
     "output_type": "stream",
     "text": [
      "Lane distance error\n",
      "136.211464638\n"
     ]
    },
    {
     "name": "stderr",
     "output_type": "stream",
     "text": [
      "\r",
      " 85%|██████████████████████████████████████████████████████████████████            | 1017/1200 [08:19<01:32,  1.98it/s]"
     ]
    },
    {
     "name": "stdout",
     "output_type": "stream",
     "text": [
      "Lane distance error\n",
      "199.884165331\n"
     ]
    },
    {
     "name": "stderr",
     "output_type": "stream",
     "text": [
      "\r",
      " 85%|██████████████████████████████████████████████████████████████████▏           | 1018/1200 [08:20<01:33,  1.95it/s]"
     ]
    },
    {
     "name": "stdout",
     "output_type": "stream",
     "text": [
      "Lane distance error\n",
      "56.6652668739\n"
     ]
    },
    {
     "name": "stderr",
     "output_type": "stream",
     "text": [
      "\r",
      " 85%|██████████████████████████████████████████████████████████████████▏           | 1019/1200 [08:20<01:33,  1.94it/s]"
     ]
    },
    {
     "name": "stdout",
     "output_type": "stream",
     "text": [
      "Lane distance error\n",
      "86.0474716132\n"
     ]
    },
    {
     "name": "stderr",
     "output_type": "stream",
     "text": [
      "\r",
      " 85%|██████████████████████████████████████████████████████████████████▎           | 1020/1200 [08:21<01:32,  1.94it/s]"
     ]
    },
    {
     "name": "stdout",
     "output_type": "stream",
     "text": [
      "Lane distance error\n",
      "54.3128507275\n"
     ]
    },
    {
     "name": "stderr",
     "output_type": "stream",
     "text": [
      "\r",
      " 85%|██████████████████████████████████████████████████████████████████▎           | 1021/1200 [08:21<01:32,  1.94it/s]"
     ]
    },
    {
     "name": "stdout",
     "output_type": "stream",
     "text": [
      "Lane distance error\n",
      "-462.433597038\n"
     ]
    },
    {
     "name": "stderr",
     "output_type": "stream",
     "text": [
      "\r",
      " 85%|██████████████████████████████████████████████████████████████████▍           | 1022/1200 [08:22<01:30,  1.97it/s]"
     ]
    },
    {
     "name": "stdout",
     "output_type": "stream",
     "text": [
      "Lane distance error\n",
      "-537.632659283\n"
     ]
    },
    {
     "name": "stderr",
     "output_type": "stream",
     "text": [
      "\r",
      " 85%|██████████████████████████████████████████████████████████████████▍           | 1023/1200 [08:22<01:29,  1.97it/s]"
     ]
    },
    {
     "name": "stdout",
     "output_type": "stream",
     "text": [
      "Lane distance error\n",
      "-920.30113282\n"
     ]
    },
    {
     "name": "stderr",
     "output_type": "stream",
     "text": [
      "\r",
      " 85%|██████████████████████████████████████████████████████████████████▌           | 1024/1200 [08:23<01:28,  1.99it/s]"
     ]
    },
    {
     "name": "stdout",
     "output_type": "stream",
     "text": [
      "Lane distance error\n",
      "198.596690333\n"
     ]
    },
    {
     "name": "stderr",
     "output_type": "stream",
     "text": [
      "\r",
      " 85%|██████████████████████████████████████████████████████████████████▋           | 1025/1200 [08:23<01:28,  1.99it/s]"
     ]
    },
    {
     "name": "stdout",
     "output_type": "stream",
     "text": [
      "Lane distance error\n",
      "-340.032593184\n"
     ]
    },
    {
     "name": "stderr",
     "output_type": "stream",
     "text": [
      "\r",
      " 86%|██████████████████████████████████████████████████████████████████▋           | 1026/1200 [08:24<01:27,  2.00it/s]"
     ]
    },
    {
     "name": "stdout",
     "output_type": "stream",
     "text": [
      "Lane distance error\n",
      "199.524546716\n"
     ]
    },
    {
     "name": "stderr",
     "output_type": "stream",
     "text": [
      "\r",
      " 86%|██████████████████████████████████████████████████████████████████▊           | 1027/1200 [08:24<01:26,  2.00it/s]"
     ]
    },
    {
     "name": "stdout",
     "output_type": "stream",
     "text": [
      "Lane distance error\n",
      "933.175221741\n"
     ]
    },
    {
     "name": "stderr",
     "output_type": "stream",
     "text": [
      "\r",
      " 86%|██████████████████████████████████████████████████████████████████▊           | 1028/1200 [08:25<01:30,  1.91it/s]"
     ]
    },
    {
     "name": "stdout",
     "output_type": "stream",
     "text": [
      "Lane distance error\n",
      "309023.922308\n"
     ]
    },
    {
     "name": "stderr",
     "output_type": "stream",
     "text": [
      "\r",
      " 86%|██████████████████████████████████████████████████████████████████▉           | 1029/1200 [08:26<01:28,  1.94it/s]"
     ]
    },
    {
     "name": "stdout",
     "output_type": "stream",
     "text": [
      "Lane distance error\n",
      "163977.582627\n"
     ]
    },
    {
     "name": "stderr",
     "output_type": "stream",
     "text": [
      "\r",
      " 86%|██████████████████████████████████████████████████████████████████▉           | 1030/1200 [08:26<01:26,  1.98it/s]"
     ]
    },
    {
     "name": "stdout",
     "output_type": "stream",
     "text": [
      "Lane distance error\n",
      "114823.657766\n"
     ]
    },
    {
     "name": "stderr",
     "output_type": "stream",
     "text": [
      "\r",
      " 86%|███████████████████████████████████████████████████████████████████           | 1031/1200 [08:26<01:24,  2.00it/s]"
     ]
    },
    {
     "name": "stdout",
     "output_type": "stream",
     "text": [
      "Lane distance error\n",
      "142729.488795\n"
     ]
    },
    {
     "name": "stderr",
     "output_type": "stream",
     "text": [
      "\r",
      " 86%|███████████████████████████████████████████████████████████████████           | 1032/1200 [08:27<01:23,  2.01it/s]"
     ]
    },
    {
     "name": "stdout",
     "output_type": "stream",
     "text": [
      "Lane distance error\n",
      "144332.5465\n"
     ]
    },
    {
     "name": "stderr",
     "output_type": "stream",
     "text": [
      "\r",
      " 86%|███████████████████████████████████████████████████████████████████▏          | 1033/1200 [08:27<01:22,  2.03it/s]"
     ]
    },
    {
     "name": "stdout",
     "output_type": "stream",
     "text": [
      "Lane distance error\n",
      "276101.641215\n"
     ]
    },
    {
     "name": "stderr",
     "output_type": "stream",
     "text": [
      "\r",
      " 86%|███████████████████████████████████████████████████████████████████▏          | 1034/1200 [08:28<01:20,  2.06it/s]"
     ]
    },
    {
     "name": "stdout",
     "output_type": "stream",
     "text": [
      "Lane distance error\n",
      "2405.57462901\n"
     ]
    },
    {
     "name": "stderr",
     "output_type": "stream",
     "text": [
      "\r",
      " 86%|███████████████████████████████████████████████████████████████████▎          | 1035/1200 [08:28<01:20,  2.06it/s]"
     ]
    },
    {
     "name": "stdout",
     "output_type": "stream",
     "text": [
      "Lane distance error\n",
      "291180.358681\n"
     ]
    },
    {
     "name": "stderr",
     "output_type": "stream",
     "text": [
      "\r",
      " 86%|███████████████████████████████████████████████████████████████████▎          | 1036/1200 [08:29<01:19,  2.07it/s]"
     ]
    },
    {
     "name": "stdout",
     "output_type": "stream",
     "text": [
      "Lane distance error\n",
      "2922.70588535\n"
     ]
    },
    {
     "name": "stderr",
     "output_type": "stream",
     "text": [
      "\r",
      " 86%|███████████████████████████████████████████████████████████████████▍          | 1037/1200 [08:29<01:19,  2.06it/s]"
     ]
    },
    {
     "name": "stdout",
     "output_type": "stream",
     "text": [
      "Lane distance error\n",
      "2646.21878794\n"
     ]
    },
    {
     "name": "stderr",
     "output_type": "stream",
     "text": [
      "\r",
      " 86%|███████████████████████████████████████████████████████████████████▍          | 1038/1200 [08:30<01:21,  1.99it/s]"
     ]
    },
    {
     "name": "stdout",
     "output_type": "stream",
     "text": [
      "Lane distance error\n",
      "1467.74358573\n"
     ]
    },
    {
     "name": "stderr",
     "output_type": "stream",
     "text": [
      "\r",
      " 87%|███████████████████████████████████████████████████████████████████▌          | 1039/1200 [08:30<01:20,  2.00it/s]"
     ]
    },
    {
     "name": "stdout",
     "output_type": "stream",
     "text": [
      "Lane distance error\n",
      "-7762.26086823\n"
     ]
    },
    {
     "name": "stderr",
     "output_type": "stream",
     "text": [
      "\r",
      " 87%|███████████████████████████████████████████████████████████████████▌          | 1040/1200 [08:31<01:19,  2.02it/s]"
     ]
    },
    {
     "name": "stdout",
     "output_type": "stream",
     "text": [
      "Lane distance error\n",
      "-2155.05576398\n"
     ]
    },
    {
     "name": "stderr",
     "output_type": "stream",
     "text": [
      " 87%|███████████████████████████████████████████████████████████████████▊          | 1043/1200 [08:32<01:13,  2.14it/s]"
     ]
    },
    {
     "name": "stdout",
     "output_type": "stream",
     "text": [
      "Lane distance error\n",
      "199.922362863\n"
     ]
    },
    {
     "name": "stderr",
     "output_type": "stream",
     "text": [
      "\r",
      " 87%|███████████████████████████████████████████████████████████████████▊          | 1044/1200 [08:33<01:13,  2.12it/s]"
     ]
    },
    {
     "name": "stdout",
     "output_type": "stream",
     "text": [
      "Lane distance error\n",
      "-213.661778238\n"
     ]
    },
    {
     "name": "stderr",
     "output_type": "stream",
     "text": [
      "\r",
      " 87%|███████████████████████████████████████████████████████████████████▉          | 1045/1200 [08:33<01:13,  2.10it/s]"
     ]
    },
    {
     "name": "stdout",
     "output_type": "stream",
     "text": [
      "Lane distance error\n",
      "-9222.93414032\n"
     ]
    },
    {
     "name": "stderr",
     "output_type": "stream",
     "text": [
      "\r",
      " 87%|███████████████████████████████████████████████████████████████████▉          | 1046/1200 [08:34<01:13,  2.10it/s]"
     ]
    },
    {
     "name": "stdout",
     "output_type": "stream",
     "text": [
      "Lane distance error\n",
      "-524.331508643\n"
     ]
    },
    {
     "name": "stderr",
     "output_type": "stream",
     "text": [
      "\r",
      " 87%|████████████████████████████████████████████████████████████████████          | 1047/1200 [08:34<01:13,  2.09it/s]"
     ]
    },
    {
     "name": "stdout",
     "output_type": "stream",
     "text": [
      "Lane distance error\n",
      "14.1415615672\n"
     ]
    },
    {
     "name": "stderr",
     "output_type": "stream",
     "text": [
      " 88%|████████████████████████████████████████████████████████████████████▎         | 1050/1200 [08:36<01:11,  2.11it/s]"
     ]
    },
    {
     "name": "stdout",
     "output_type": "stream",
     "text": [
      "Lane distance error\n",
      "-4257.01423067\n"
     ]
    },
    {
     "name": "stderr",
     "output_type": "stream",
     "text": [
      "\r",
      " 88%|████████████████████████████████████████████████████████████████████▎         | 1051/1200 [08:36<01:10,  2.11it/s]"
     ]
    },
    {
     "name": "stdout",
     "output_type": "stream",
     "text": [
      "Lane distance error\n",
      "7.31838118241\n"
     ]
    },
    {
     "name": "stderr",
     "output_type": "stream",
     "text": [
      " 88%|████████████████████████████████████████████████████████████████████▍         | 1053/1200 [08:37<01:07,  2.17it/s]"
     ]
    },
    {
     "name": "stdout",
     "output_type": "stream",
     "text": [
      "Lane distance error\n",
      "50.7212783329\n"
     ]
    },
    {
     "name": "stderr",
     "output_type": "stream",
     "text": [
      "\r",
      " 88%|████████████████████████████████████████████████████████████████████▌         | 1054/1200 [08:38<01:08,  2.14it/s]"
     ]
    },
    {
     "name": "stdout",
     "output_type": "stream",
     "text": [
      "Lane distance error\n",
      "199.604250281\n"
     ]
    },
    {
     "name": "stderr",
     "output_type": "stream",
     "text": [
      "\r",
      " 88%|████████████████████████████████████████████████████████████████████▌         | 1055/1200 [08:38<01:08,  2.11it/s]"
     ]
    },
    {
     "name": "stdout",
     "output_type": "stream",
     "text": [
      "Lane distance error\n",
      "1159.27707611\n"
     ]
    },
    {
     "name": "stderr",
     "output_type": "stream",
     "text": [
      "\r",
      " 88%|████████████████████████████████████████████████████████████████████▋         | 1056/1200 [08:38<01:08,  2.11it/s]"
     ]
    },
    {
     "name": "stdout",
     "output_type": "stream",
     "text": [
      "Lane distance error\n",
      "-5382.30303161\n"
     ]
    },
    {
     "name": "stderr",
     "output_type": "stream",
     "text": [
      " 88%|████████████████████████████████████████████████████████████████████▊         | 1058/1200 [08:39<01:07,  2.09it/s]"
     ]
    },
    {
     "name": "stdout",
     "output_type": "stream",
     "text": [
      "Lane distance error\n",
      "139.055212544\n"
     ]
    },
    {
     "name": "stderr",
     "output_type": "stream",
     "text": [
      "\r",
      " 88%|████████████████████████████████████████████████████████████████████▊         | 1059/1200 [08:40<01:09,  2.01it/s]"
     ]
    },
    {
     "name": "stdout",
     "output_type": "stream",
     "text": [
      "Lane distance error\n",
      "1728.81080609\n"
     ]
    },
    {
     "name": "stderr",
     "output_type": "stream",
     "text": [
      "\r",
      " 88%|████████████████████████████████████████████████████████████████████▉         | 1060/1200 [08:40<01:07,  2.06it/s]"
     ]
    },
    {
     "name": "stdout",
     "output_type": "stream",
     "text": [
      "Lane distance error\n",
      "-1425.69884891\n"
     ]
    },
    {
     "name": "stderr",
     "output_type": "stream",
     "text": [
      "\r",
      " 88%|████████████████████████████████████████████████████████████████████▉         | 1061/1200 [08:41<01:06,  2.08it/s]"
     ]
    },
    {
     "name": "stdout",
     "output_type": "stream",
     "text": [
      "Lane distance error\n",
      "-846.915075697\n"
     ]
    },
    {
     "name": "stderr",
     "output_type": "stream",
     "text": [
      "\r",
      " 88%|█████████████████████████████████████████████████████████████████████         | 1062/1200 [08:41<01:05,  2.10it/s]"
     ]
    },
    {
     "name": "stdout",
     "output_type": "stream",
     "text": [
      "Lane distance error\n",
      "-21083.679799\n"
     ]
    },
    {
     "name": "stderr",
     "output_type": "stream",
     "text": [
      "\r",
      " 89%|█████████████████████████████████████████████████████████████████████         | 1063/1200 [08:42<01:07,  2.04it/s]"
     ]
    },
    {
     "name": "stdout",
     "output_type": "stream",
     "text": [
      "Lane distance error\n",
      "-543.805175177\n"
     ]
    },
    {
     "name": "stderr",
     "output_type": "stream",
     "text": [
      "\r",
      " 89%|█████████████████████████████████████████████████████████████████████▏        | 1064/1200 [08:42<01:05,  2.09it/s]"
     ]
    },
    {
     "name": "stdout",
     "output_type": "stream",
     "text": [
      "Lane distance error\n",
      "7087.72528695\n"
     ]
    },
    {
     "name": "stderr",
     "output_type": "stream",
     "text": [
      "\r",
      " 89%|█████████████████████████████████████████████████████████████████████▏        | 1065/1200 [08:43<01:04,  2.10it/s]"
     ]
    },
    {
     "name": "stdout",
     "output_type": "stream",
     "text": [
      "Lane distance error\n",
      "6918.08625877\n"
     ]
    },
    {
     "name": "stderr",
     "output_type": "stream",
     "text": [
      "\r",
      " 89%|█████████████████████████████████████████████████████████████████████▎        | 1066/1200 [08:43<01:03,  2.10it/s]"
     ]
    },
    {
     "name": "stdout",
     "output_type": "stream",
     "text": [
      "Lane distance error\n",
      "4203.7157338\n"
     ]
    },
    {
     "name": "stderr",
     "output_type": "stream",
     "text": [
      "\r",
      " 89%|█████████████████████████████████████████████████████████████████████▎        | 1067/1200 [08:44<01:02,  2.13it/s]"
     ]
    },
    {
     "name": "stdout",
     "output_type": "stream",
     "text": [
      "Lane distance error\n",
      "-624.661712064\n"
     ]
    },
    {
     "name": "stderr",
     "output_type": "stream",
     "text": [
      " 89%|█████████████████████████████████████████████████████████████████████▋        | 1073/1200 [08:47<01:03,  1.99it/s]"
     ]
    },
    {
     "name": "stdout",
     "output_type": "stream",
     "text": [
      "Lane distance error\n",
      "-460.372772407\n"
     ]
    },
    {
     "name": "stderr",
     "output_type": "stream",
     "text": [
      "\r",
      " 90%|█████████████████████████████████████████████████████████████████████▊        | 1074/1200 [08:47<01:04,  1.94it/s]"
     ]
    },
    {
     "name": "stdout",
     "output_type": "stream",
     "text": [
      "Lane distance error\n",
      "6075.94144232\n"
     ]
    },
    {
     "name": "stderr",
     "output_type": "stream",
     "text": [
      "\r",
      " 90%|█████████████████████████████████████████████████████████████████████▉        | 1075/1200 [08:48<01:02,  2.00it/s]"
     ]
    },
    {
     "name": "stdout",
     "output_type": "stream",
     "text": [
      "Lane distance error\n",
      "20265.7408255\n"
     ]
    },
    {
     "name": "stderr",
     "output_type": "stream",
     "text": [
      "\r",
      " 90%|█████████████████████████████████████████████████████████████████████▉        | 1076/1200 [08:48<01:00,  2.03it/s]"
     ]
    },
    {
     "name": "stdout",
     "output_type": "stream",
     "text": [
      "Lane distance error\n",
      "4609.38041601\n"
     ]
    },
    {
     "name": "stderr",
     "output_type": "stream",
     "text": [
      "\r",
      " 90%|██████████████████████████████████████████████████████████████████████        | 1077/1200 [08:49<01:00,  2.04it/s]"
     ]
    },
    {
     "name": "stdout",
     "output_type": "stream",
     "text": [
      "Lane distance error\n",
      "3570.32833755\n"
     ]
    },
    {
     "name": "stderr",
     "output_type": "stream",
     "text": [
      "\r",
      " 90%|██████████████████████████████████████████████████████████████████████        | 1078/1200 [08:49<00:58,  2.09it/s]"
     ]
    },
    {
     "name": "stdout",
     "output_type": "stream",
     "text": [
      "Lane distance error\n",
      "-10680.9999506\n"
     ]
    },
    {
     "name": "stderr",
     "output_type": "stream",
     "text": [
      "\r",
      " 90%|██████████████████████████████████████████████████████████████████████▏       | 1079/1200 [08:50<00:56,  2.13it/s]"
     ]
    },
    {
     "name": "stdout",
     "output_type": "stream",
     "text": [
      "Lane distance error\n",
      "6811.10422624\n"
     ]
    },
    {
     "name": "stderr",
     "output_type": "stream",
     "text": [
      "\r",
      " 90%|██████████████████████████████████████████████████████████████████████▏       | 1080/1200 [08:50<00:56,  2.14it/s]"
     ]
    },
    {
     "name": "stdout",
     "output_type": "stream",
     "text": [
      "Lane distance error\n",
      "8091.40597089\n"
     ]
    },
    {
     "name": "stderr",
     "output_type": "stream",
     "text": [
      "\r",
      " 90%|██████████████████████████████████████████████████████████████████████▎       | 1081/1200 [08:51<00:55,  2.14it/s]"
     ]
    },
    {
     "name": "stdout",
     "output_type": "stream",
     "text": [
      "Lane distance error\n",
      "12015.8020809\n"
     ]
    },
    {
     "name": "stderr",
     "output_type": "stream",
     "text": [
      "\r",
      " 90%|██████████████████████████████████████████████████████████████████████▎       | 1082/1200 [08:51<00:55,  2.11it/s]"
     ]
    },
    {
     "name": "stdout",
     "output_type": "stream",
     "text": [
      "Lane distance error\n",
      "1305.35336491\n"
     ]
    },
    {
     "name": "stderr",
     "output_type": "stream",
     "text": [
      " 90%|██████████████████████████████████████████████████████████████████████▍       | 1084/1200 [08:52<00:55,  2.09it/s]"
     ]
    },
    {
     "name": "stdout",
     "output_type": "stream",
     "text": [
      "Lane distance error\n",
      "182.036527467\n"
     ]
    },
    {
     "name": "stderr",
     "output_type": "stream",
     "text": [
      "\r",
      " 90%|██████████████████████████████████████████████████████████████████████▌       | 1085/1200 [08:53<00:56,  2.03it/s]"
     ]
    },
    {
     "name": "stdout",
     "output_type": "stream",
     "text": [
      "Lane distance error\n",
      "-3055.4113962\n"
     ]
    },
    {
     "name": "stderr",
     "output_type": "stream",
     "text": [
      "\r",
      " 90%|██████████████████████████████████████████████████████████████████████▌       | 1086/1200 [08:53<00:55,  2.05it/s]"
     ]
    },
    {
     "name": "stdout",
     "output_type": "stream",
     "text": [
      "Lane distance error\n",
      "976.3766881\n"
     ]
    },
    {
     "name": "stderr",
     "output_type": "stream",
     "text": [
      "\r",
      " 91%|██████████████████████████████████████████████████████████████████████▋       | 1087/1200 [08:54<00:55,  2.04it/s]"
     ]
    },
    {
     "name": "stdout",
     "output_type": "stream",
     "text": [
      "Lane distance error\n",
      "1991.0447013\n"
     ]
    },
    {
     "name": "stderr",
     "output_type": "stream",
     "text": [
      " 91%|██████████████████████████████████████████████████████████████████████▊       | 1089/1200 [08:54<00:52,  2.13it/s]"
     ]
    },
    {
     "name": "stdout",
     "output_type": "stream",
     "text": [
      "Lane distance error\n",
      "1430.2483947\n"
     ]
    },
    {
     "name": "stderr",
     "output_type": "stream",
     "text": [
      "\r",
      " 91%|██████████████████████████████████████████████████████████████████████▊       | 1090/1200 [08:55<00:52,  2.10it/s]"
     ]
    },
    {
     "name": "stdout",
     "output_type": "stream",
     "text": [
      "Lane distance error\n",
      "1514.64758934\n"
     ]
    },
    {
     "name": "stderr",
     "output_type": "stream",
     "text": [
      "\r",
      " 91%|██████████████████████████████████████████████████████████████████████▉       | 1091/1200 [08:55<00:51,  2.11it/s]"
     ]
    },
    {
     "name": "stdout",
     "output_type": "stream",
     "text": [
      "Lane distance error\n",
      "2144.93504147\n"
     ]
    },
    {
     "name": "stderr",
     "output_type": "stream",
     "text": [
      "\r",
      " 91%|██████████████████████████████████████████████████████████████████████▉       | 1092/1200 [08:56<00:51,  2.11it/s]"
     ]
    },
    {
     "name": "stdout",
     "output_type": "stream",
     "text": [
      "Lane distance error\n",
      "2447.96951034\n"
     ]
    },
    {
     "name": "stderr",
     "output_type": "stream",
     "text": [
      " 92%|███████████████████████████████████████████████████████████████████████▎      | 1098/1200 [08:59<00:49,  2.07it/s]"
     ]
    },
    {
     "name": "stdout",
     "output_type": "stream",
     "text": [
      "Lane distance error\n",
      "947.706874963\n"
     ]
    },
    {
     "name": "stderr",
     "output_type": "stream",
     "text": [
      "\r",
      " 92%|███████████████████████████████████████████████████████████████████████▍      | 1099/1200 [08:59<00:50,  2.00it/s]"
     ]
    },
    {
     "name": "stdout",
     "output_type": "stream",
     "text": [
      "Lane distance error\n",
      "848.380828154\n"
     ]
    },
    {
     "name": "stderr",
     "output_type": "stream",
     "text": [
      " 92%|███████████████████████████████████████████████████████████████████████▊      | 1104/1200 [09:01<00:43,  2.22it/s]"
     ]
    },
    {
     "name": "stdout",
     "output_type": "stream",
     "text": [
      "Lane distance error\n",
      "908.230691107\n"
     ]
    },
    {
     "name": "stderr",
     "output_type": "stream",
     "text": [
      "\r",
      " 92%|███████████████████████████████████████████████████████████████████████▊      | 1105/1200 [09:02<00:43,  2.17it/s]"
     ]
    },
    {
     "name": "stdout",
     "output_type": "stream",
     "text": [
      "Lane distance error\n",
      "909.319876185\n"
     ]
    },
    {
     "name": "stderr",
     "output_type": "stream",
     "text": [
      "\r",
      " 92%|███████████████████████████████████████████████████████████████████████▉      | 1106/1200 [09:02<00:43,  2.14it/s]"
     ]
    },
    {
     "name": "stdout",
     "output_type": "stream",
     "text": [
      "Lane distance error\n",
      "999.68019071\n"
     ]
    },
    {
     "name": "stderr",
     "output_type": "stream",
     "text": [
      "100%|█████████████████████████████████████████████████████████████████████████████▉| 1199/1200 [09:49<00:00,  2.01it/s]\n"
     ]
    },
    {
     "name": "stdout",
     "output_type": "stream",
     "text": [
      "[MoviePy] Done.\n",
      "[MoviePy] >>>> Video ready: C:/Users/tyone/Udacity/CarND-Advanced-Lane-Lines/output_images/video502.mp4 \n",
      "\n",
      "Wall time: 9min 52s\n"
     ]
    }
   ],
   "source": [
    "project_video_output = 'C:/Users/tyone/Udacity/CarND-Advanced-Lane-Lines/output_images/video502.mp4'  # output file\n",
    "#clip1 = VideoFileClip(\"C:/Users/tyone/Udacity/CarND-Advanced-Lane-Lines/project_video.mp4\")  # input file\n",
    "#clip1 = VideoFileClip(\"C:/Users/tyone/Udacity/CarND-Advanced-Lane-Lines/project_video.mp4\").subclip(19,26)  # input file\n",
    "#clip1 = VideoFileClip(\"C:/Users/tyone/Udacity/CarND-Advanced-Lane-Lines/challenge_video.mp4\")  # input file\n",
    "#clip1 = VideoFileClip(\"C:/Users/tyone/Udacity/CarND-Advanced-Lane-Lines/challenge_video.mp4\").subclip(2,7)  # input file\n",
    "clip1 = VideoFileClip(\"C:/Users/tyone/Udacity/CarND-Advanced-Lane-Lines/harder_challenge_video.mp4\")  # input file\n",
    "#clip1 = VideoFileClip(\"C:/Users/tyone/Udacity/CarND-Advanced-Lane-Lines/harder_challenge_video.mp4\").subclip(25,42)  # input file\n",
    "white_clip = clip1.fl_image(process_image) #NOTE: this function expects color images!!\n",
    "%time white_clip.write_videofile(project_video_output, audio=False)"
   ]
  },
  {
   "cell_type": "code",
   "execution_count": null,
   "metadata": {
    "collapsed": true
   },
   "outputs": [],
   "source": []
  }
 ],
 "metadata": {
  "kernelspec": {
   "display_name": "Python 3",
   "language": "python",
   "name": "python3"
  },
  "language_info": {
   "codemirror_mode": {
    "name": "ipython",
    "version": 3
   },
   "file_extension": ".py",
   "mimetype": "text/x-python",
   "name": "python",
   "nbconvert_exporter": "python",
   "pygments_lexer": "ipython3",
   "version": "3.5.4"
  }
 },
 "nbformat": 4,
 "nbformat_minor": 2
}
